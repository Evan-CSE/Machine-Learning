{
 "cells": [
  {
   "cell_type": "code",
   "execution_count": 12,
   "id": "47aec8d2",
   "metadata": {},
   "outputs": [],
   "source": [
    "import numpy as np\n",
    "import pandas as pd"
   ]
  },
  {
   "cell_type": "code",
   "execution_count": 11,
   "id": "fba3d576",
   "metadata": {},
   "outputs": [
    {
     "name": "stdout",
     "output_type": "stream",
     "text": [
      "m = 0.62 ,c = 0.18 , cost = 89.0 , iteration = 0 \n",
      "m = 1.0928 ,c = 0.3192 , cost = 52.25039999999999 , iteration = 1 \n",
      "m = 1.453232 ,c = 0.42724799999999996 , cost = 30.831949440000002 , iteration = 2 \n",
      "m = 1.7278860800000002 ,c = 0.5115091199999999 , cost = 18.347751350784 , iteration = 3 \n",
      "m = 1.9370605952000002 ,c = 0.5776057727999999 , cost = 11.070010749324897 , iteration = 4 \n",
      "m = 2.096250917888 ,c = 0.6298300216319999 , cost = 6.826353152519786 , iteration = 5 \n",
      "m = 2.2172859146547204 ,c = 0.6714583661260799 , cost = 4.350826141683065 , iteration = 6 \n",
      "m = 2.309195511463117 ,c = 0.7049920439242751 , cost = 2.9056952040975976 , iteration = 7 \n",
      "m = 2.3788729763057748 ,c = 0.7323404723580026 , cost = 2.0610450731046615 , iteration = 8 \n",
      "m = 2.431580493177024 ,c = 0.7549612843324961 , cost = 1.5663423003130599 , iteration = 9 \n"
     ]
    }
   ],
   "source": [
    "def gradient_descent(x,y):\n",
    "    m_cur = c_cur = 0;\n",
    "    iterations = 10\n",
    "    n = len(x);\n",
    "    learning_rate = 0.01;\n",
    "    \n",
    "    #x = np.array() type er array hole x er opor operation chalale\n",
    "    #pura array er protita element er opor operation hoy\n",
    "    for i in range(iterations):\n",
    "        y_predicted = m_cur*x+c_cur;\n",
    "        cost = (1/n)*sum([value**2 for value in (y-y_predicted)])\n",
    "        dm = (-2)/n*sum(x*(y-y_predicted))\n",
    "        dc = (-2/n)*sum(y-y_predicted)\n",
    "        m_cur = m_cur - (learning_rate*dm)\n",
    "        c_cur = c_cur - (learning_rate*dc)\n",
    "        print(\"m = {} ,c = {} , cost = {} , iteration = {} \".format(m_cur,c_cur,cost,i))\n",
    "        \n",
    "    \n",
    "    \n",
    "x = np.array([1,2,3,4,5])\n",
    "y = np.array([5,7,9,11,13])\n",
    "    \n",
    "gradient_descent(x,y);"
   ]
  },
  {
   "cell_type": "code",
   "execution_count": null,
   "id": "9ed4cffe",
   "metadata": {},
   "outputs": [],
   "source": [
    "data = pd.read_csv('test_scores.csv')\n"
   ]
  }
 ],
 "metadata": {
  "kernelspec": {
   "display_name": "Python 3 (ipykernel)",
   "language": "python",
   "name": "python3"
  },
  "language_info": {
   "codemirror_mode": {
    "name": "ipython",
    "version": 3
   },
   "file_extension": ".py",
   "mimetype": "text/x-python",
   "name": "python",
   "nbconvert_exporter": "python",
   "pygments_lexer": "ipython3",
   "version": "3.9.7"
  }
 },
 "nbformat": 4,
 "nbformat_minor": 5
}
